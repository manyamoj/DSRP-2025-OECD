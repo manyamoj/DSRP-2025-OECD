{
  "nbformat": 4,
  "nbformat_minor": 0,
  "metadata": {
    "colab": {
      "provenance": [],
      "authorship_tag": "ABX9TyPYLkxpFzayeabqfOxD/5PL",
      "include_colab_link": true
    },
    "kernelspec": {
      "name": "python3",
      "display_name": "Python 3"
    },
    "language_info": {
      "name": "python"
    }
  },
  "cells": [
    {
      "cell_type": "markdown",
      "metadata": {
        "id": "view-in-github",
        "colab_type": "text"
      },
      "source": [
        "<a href=\"https://colab.research.google.com/github/manyamoj/DSRP-2025-OECD/blob/main/Final_DSRP_Current_Wellbeing.ipynb\" target=\"_parent\"><img src=\"https://colab.research.google.com/assets/colab-badge.svg\" alt=\"Open In Colab\"/></a>"
      ]
    },
    {
      "cell_type": "code",
      "execution_count": 2,
      "metadata": {
        "id": "n9ORWWX_8CCq"
      },
      "outputs": [],
      "source": [
        "# pandas helps with tables like Excel sheets, easier analysis\n",
        "import pandas as pd\n"
      ]
    },
    {
      "cell_type": "code",
      "source": [
        "from google.colab import files\n",
        "uploaded = files.upload()\n",
        "\n"
      ],
      "metadata": {
        "colab": {
          "base_uri": "https://localhost:8080/",
          "height": 128
        },
        "id": "Tmg-jNSn8t2I",
        "outputId": "1042691a-0c12-40b5-f056-e7e1d5744caa"
      },
      "execution_count": 4,
      "outputs": [
        {
          "output_type": "display_data",
          "data": {
            "text/plain": [
              "<IPython.core.display.HTML object>"
            ],
            "text/html": [
              "\n",
              "     <input type=\"file\" id=\"files-cdf2b517-caa0-40e0-8fdd-9a0d05bcd380\" name=\"files[]\" multiple disabled\n",
              "        style=\"border:none\" />\n",
              "     <output id=\"result-cdf2b517-caa0-40e0-8fdd-9a0d05bcd380\">\n",
              "      Upload widget is only available when the cell has been executed in the\n",
              "      current browser session. Please rerun this cell to enable.\n",
              "      </output>\n",
              "      <script>// Copyright 2017 Google LLC\n",
              "//\n",
              "// Licensed under the Apache License, Version 2.0 (the \"License\");\n",
              "// you may not use this file except in compliance with the License.\n",
              "// You may obtain a copy of the License at\n",
              "//\n",
              "//      http://www.apache.org/licenses/LICENSE-2.0\n",
              "//\n",
              "// Unless required by applicable law or agreed to in writing, software\n",
              "// distributed under the License is distributed on an \"AS IS\" BASIS,\n",
              "// WITHOUT WARRANTIES OR CONDITIONS OF ANY KIND, either express or implied.\n",
              "// See the License for the specific language governing permissions and\n",
              "// limitations under the License.\n",
              "\n",
              "/**\n",
              " * @fileoverview Helpers for google.colab Python module.\n",
              " */\n",
              "(function(scope) {\n",
              "function span(text, styleAttributes = {}) {\n",
              "  const element = document.createElement('span');\n",
              "  element.textContent = text;\n",
              "  for (const key of Object.keys(styleAttributes)) {\n",
              "    element.style[key] = styleAttributes[key];\n",
              "  }\n",
              "  return element;\n",
              "}\n",
              "\n",
              "// Max number of bytes which will be uploaded at a time.\n",
              "const MAX_PAYLOAD_SIZE = 100 * 1024;\n",
              "\n",
              "function _uploadFiles(inputId, outputId) {\n",
              "  const steps = uploadFilesStep(inputId, outputId);\n",
              "  const outputElement = document.getElementById(outputId);\n",
              "  // Cache steps on the outputElement to make it available for the next call\n",
              "  // to uploadFilesContinue from Python.\n",
              "  outputElement.steps = steps;\n",
              "\n",
              "  return _uploadFilesContinue(outputId);\n",
              "}\n",
              "\n",
              "// This is roughly an async generator (not supported in the browser yet),\n",
              "// where there are multiple asynchronous steps and the Python side is going\n",
              "// to poll for completion of each step.\n",
              "// This uses a Promise to block the python side on completion of each step,\n",
              "// then passes the result of the previous step as the input to the next step.\n",
              "function _uploadFilesContinue(outputId) {\n",
              "  const outputElement = document.getElementById(outputId);\n",
              "  const steps = outputElement.steps;\n",
              "\n",
              "  const next = steps.next(outputElement.lastPromiseValue);\n",
              "  return Promise.resolve(next.value.promise).then((value) => {\n",
              "    // Cache the last promise value to make it available to the next\n",
              "    // step of the generator.\n",
              "    outputElement.lastPromiseValue = value;\n",
              "    return next.value.response;\n",
              "  });\n",
              "}\n",
              "\n",
              "/**\n",
              " * Generator function which is called between each async step of the upload\n",
              " * process.\n",
              " * @param {string} inputId Element ID of the input file picker element.\n",
              " * @param {string} outputId Element ID of the output display.\n",
              " * @return {!Iterable<!Object>} Iterable of next steps.\n",
              " */\n",
              "function* uploadFilesStep(inputId, outputId) {\n",
              "  const inputElement = document.getElementById(inputId);\n",
              "  inputElement.disabled = false;\n",
              "\n",
              "  const outputElement = document.getElementById(outputId);\n",
              "  outputElement.innerHTML = '';\n",
              "\n",
              "  const pickedPromise = new Promise((resolve) => {\n",
              "    inputElement.addEventListener('change', (e) => {\n",
              "      resolve(e.target.files);\n",
              "    });\n",
              "  });\n",
              "\n",
              "  const cancel = document.createElement('button');\n",
              "  inputElement.parentElement.appendChild(cancel);\n",
              "  cancel.textContent = 'Cancel upload';\n",
              "  const cancelPromise = new Promise((resolve) => {\n",
              "    cancel.onclick = () => {\n",
              "      resolve(null);\n",
              "    };\n",
              "  });\n",
              "\n",
              "  // Wait for the user to pick the files.\n",
              "  const files = yield {\n",
              "    promise: Promise.race([pickedPromise, cancelPromise]),\n",
              "    response: {\n",
              "      action: 'starting',\n",
              "    }\n",
              "  };\n",
              "\n",
              "  cancel.remove();\n",
              "\n",
              "  // Disable the input element since further picks are not allowed.\n",
              "  inputElement.disabled = true;\n",
              "\n",
              "  if (!files) {\n",
              "    return {\n",
              "      response: {\n",
              "        action: 'complete',\n",
              "      }\n",
              "    };\n",
              "  }\n",
              "\n",
              "  for (const file of files) {\n",
              "    const li = document.createElement('li');\n",
              "    li.append(span(file.name, {fontWeight: 'bold'}));\n",
              "    li.append(span(\n",
              "        `(${file.type || 'n/a'}) - ${file.size} bytes, ` +\n",
              "        `last modified: ${\n",
              "            file.lastModifiedDate ? file.lastModifiedDate.toLocaleDateString() :\n",
              "                                    'n/a'} - `));\n",
              "    const percent = span('0% done');\n",
              "    li.appendChild(percent);\n",
              "\n",
              "    outputElement.appendChild(li);\n",
              "\n",
              "    const fileDataPromise = new Promise((resolve) => {\n",
              "      const reader = new FileReader();\n",
              "      reader.onload = (e) => {\n",
              "        resolve(e.target.result);\n",
              "      };\n",
              "      reader.readAsArrayBuffer(file);\n",
              "    });\n",
              "    // Wait for the data to be ready.\n",
              "    let fileData = yield {\n",
              "      promise: fileDataPromise,\n",
              "      response: {\n",
              "        action: 'continue',\n",
              "      }\n",
              "    };\n",
              "\n",
              "    // Use a chunked sending to avoid message size limits. See b/62115660.\n",
              "    let position = 0;\n",
              "    do {\n",
              "      const length = Math.min(fileData.byteLength - position, MAX_PAYLOAD_SIZE);\n",
              "      const chunk = new Uint8Array(fileData, position, length);\n",
              "      position += length;\n",
              "\n",
              "      const base64 = btoa(String.fromCharCode.apply(null, chunk));\n",
              "      yield {\n",
              "        response: {\n",
              "          action: 'append',\n",
              "          file: file.name,\n",
              "          data: base64,\n",
              "        },\n",
              "      };\n",
              "\n",
              "      let percentDone = fileData.byteLength === 0 ?\n",
              "          100 :\n",
              "          Math.round((position / fileData.byteLength) * 100);\n",
              "      percent.textContent = `${percentDone}% done`;\n",
              "\n",
              "    } while (position < fileData.byteLength);\n",
              "  }\n",
              "\n",
              "  // All done.\n",
              "  yield {\n",
              "    response: {\n",
              "      action: 'complete',\n",
              "    }\n",
              "  };\n",
              "}\n",
              "\n",
              "scope.google = scope.google || {};\n",
              "scope.google.colab = scope.google.colab || {};\n",
              "scope.google.colab._files = {\n",
              "  _uploadFiles,\n",
              "  _uploadFilesContinue,\n",
              "};\n",
              "})(self);\n",
              "</script> "
            ]
          },
          "metadata": {}
        },
        {
          "output_type": "stream",
          "name": "stdout",
          "text": [
            "Saving OECD.WISE.WDP,DSD_HSL@DF_HSL_CWB,1.1+AUS.11_2+11_1+9_3+9_2+8_2+8_1_DEP+7_2+7_1_DEP+6_2_DEP+6_2+5_3+5_1+4_3+4_1+3_2+3_1+2_7+2_2+2_1+1_3+1_2+1_1.._T._T._T. (4).csv to OECD.WISE.WDP,DSD_HSL@DF_HSL_CWB,1.1+AUS.11_2+11_1+9_3+9_2+8_2+8_1_DEP+7_2+7_1_DEP+6_2_DEP+6_2+5_3+5_1+4_3+4_1+3_2+3_1+2_7+2_2+2_1+1_3+1_2+1_1.._T._T._T. (4).csv\n"
          ]
        }
      ]
    },
    {
      "cell_type": "code",
      "source": [
        "import os\n",
        "print(os.listdir())\n"
      ],
      "metadata": {
        "colab": {
          "base_uri": "https://localhost:8080/"
        },
        "id": "b_sdZsRB8_or",
        "outputId": "033ca318-f2bd-4bdf-97f3-c957ab957e1f"
      },
      "execution_count": 5,
      "outputs": [
        {
          "output_type": "stream",
          "name": "stdout",
          "text": [
            "['.config', 'OECD.WISE.WDP,DSD_HSL@DF_HSL_CWB,1.1+AUS.11_2+11_1+9_3+9_2+8_2+8_1_DEP+7_2+7_1_DEP+6_2_DEP+6_2+5_3+5_1+4_3+4_1+3_2+3_1+2_7+2_2+2_1+1_3+1_2+1_1.._T._T._T. (4).csv', 'sample_data']\n"
          ]
        }
      ]
    },
    {
      "cell_type": "code",
      "source": [
        "from google.colab import files\n",
        "uploaded = files.upload()\n"
      ],
      "metadata": {
        "colab": {
          "base_uri": "https://localhost:8080/",
          "height": 128
        },
        "id": "3vW7fdtk9C1x",
        "outputId": "e13d2bbc-2d94-4186-8619-a9062099286c"
      },
      "execution_count": 10,
      "outputs": [
        {
          "output_type": "display_data",
          "data": {
            "text/plain": [
              "<IPython.core.display.HTML object>"
            ],
            "text/html": [
              "\n",
              "     <input type=\"file\" id=\"files-fd61466a-c1d1-4cdf-bf8b-d42e60d6e400\" name=\"files[]\" multiple disabled\n",
              "        style=\"border:none\" />\n",
              "     <output id=\"result-fd61466a-c1d1-4cdf-bf8b-d42e60d6e400\">\n",
              "      Upload widget is only available when the cell has been executed in the\n",
              "      current browser session. Please rerun this cell to enable.\n",
              "      </output>\n",
              "      <script>// Copyright 2017 Google LLC\n",
              "//\n",
              "// Licensed under the Apache License, Version 2.0 (the \"License\");\n",
              "// you may not use this file except in compliance with the License.\n",
              "// You may obtain a copy of the License at\n",
              "//\n",
              "//      http://www.apache.org/licenses/LICENSE-2.0\n",
              "//\n",
              "// Unless required by applicable law or agreed to in writing, software\n",
              "// distributed under the License is distributed on an \"AS IS\" BASIS,\n",
              "// WITHOUT WARRANTIES OR CONDITIONS OF ANY KIND, either express or implied.\n",
              "// See the License for the specific language governing permissions and\n",
              "// limitations under the License.\n",
              "\n",
              "/**\n",
              " * @fileoverview Helpers for google.colab Python module.\n",
              " */\n",
              "(function(scope) {\n",
              "function span(text, styleAttributes = {}) {\n",
              "  const element = document.createElement('span');\n",
              "  element.textContent = text;\n",
              "  for (const key of Object.keys(styleAttributes)) {\n",
              "    element.style[key] = styleAttributes[key];\n",
              "  }\n",
              "  return element;\n",
              "}\n",
              "\n",
              "// Max number of bytes which will be uploaded at a time.\n",
              "const MAX_PAYLOAD_SIZE = 100 * 1024;\n",
              "\n",
              "function _uploadFiles(inputId, outputId) {\n",
              "  const steps = uploadFilesStep(inputId, outputId);\n",
              "  const outputElement = document.getElementById(outputId);\n",
              "  // Cache steps on the outputElement to make it available for the next call\n",
              "  // to uploadFilesContinue from Python.\n",
              "  outputElement.steps = steps;\n",
              "\n",
              "  return _uploadFilesContinue(outputId);\n",
              "}\n",
              "\n",
              "// This is roughly an async generator (not supported in the browser yet),\n",
              "// where there are multiple asynchronous steps and the Python side is going\n",
              "// to poll for completion of each step.\n",
              "// This uses a Promise to block the python side on completion of each step,\n",
              "// then passes the result of the previous step as the input to the next step.\n",
              "function _uploadFilesContinue(outputId) {\n",
              "  const outputElement = document.getElementById(outputId);\n",
              "  const steps = outputElement.steps;\n",
              "\n",
              "  const next = steps.next(outputElement.lastPromiseValue);\n",
              "  return Promise.resolve(next.value.promise).then((value) => {\n",
              "    // Cache the last promise value to make it available to the next\n",
              "    // step of the generator.\n",
              "    outputElement.lastPromiseValue = value;\n",
              "    return next.value.response;\n",
              "  });\n",
              "}\n",
              "\n",
              "/**\n",
              " * Generator function which is called between each async step of the upload\n",
              " * process.\n",
              " * @param {string} inputId Element ID of the input file picker element.\n",
              " * @param {string} outputId Element ID of the output display.\n",
              " * @return {!Iterable<!Object>} Iterable of next steps.\n",
              " */\n",
              "function* uploadFilesStep(inputId, outputId) {\n",
              "  const inputElement = document.getElementById(inputId);\n",
              "  inputElement.disabled = false;\n",
              "\n",
              "  const outputElement = document.getElementById(outputId);\n",
              "  outputElement.innerHTML = '';\n",
              "\n",
              "  const pickedPromise = new Promise((resolve) => {\n",
              "    inputElement.addEventListener('change', (e) => {\n",
              "      resolve(e.target.files);\n",
              "    });\n",
              "  });\n",
              "\n",
              "  const cancel = document.createElement('button');\n",
              "  inputElement.parentElement.appendChild(cancel);\n",
              "  cancel.textContent = 'Cancel upload';\n",
              "  const cancelPromise = new Promise((resolve) => {\n",
              "    cancel.onclick = () => {\n",
              "      resolve(null);\n",
              "    };\n",
              "  });\n",
              "\n",
              "  // Wait for the user to pick the files.\n",
              "  const files = yield {\n",
              "    promise: Promise.race([pickedPromise, cancelPromise]),\n",
              "    response: {\n",
              "      action: 'starting',\n",
              "    }\n",
              "  };\n",
              "\n",
              "  cancel.remove();\n",
              "\n",
              "  // Disable the input element since further picks are not allowed.\n",
              "  inputElement.disabled = true;\n",
              "\n",
              "  if (!files) {\n",
              "    return {\n",
              "      response: {\n",
              "        action: 'complete',\n",
              "      }\n",
              "    };\n",
              "  }\n",
              "\n",
              "  for (const file of files) {\n",
              "    const li = document.createElement('li');\n",
              "    li.append(span(file.name, {fontWeight: 'bold'}));\n",
              "    li.append(span(\n",
              "        `(${file.type || 'n/a'}) - ${file.size} bytes, ` +\n",
              "        `last modified: ${\n",
              "            file.lastModifiedDate ? file.lastModifiedDate.toLocaleDateString() :\n",
              "                                    'n/a'} - `));\n",
              "    const percent = span('0% done');\n",
              "    li.appendChild(percent);\n",
              "\n",
              "    outputElement.appendChild(li);\n",
              "\n",
              "    const fileDataPromise = new Promise((resolve) => {\n",
              "      const reader = new FileReader();\n",
              "      reader.onload = (e) => {\n",
              "        resolve(e.target.result);\n",
              "      };\n",
              "      reader.readAsArrayBuffer(file);\n",
              "    });\n",
              "    // Wait for the data to be ready.\n",
              "    let fileData = yield {\n",
              "      promise: fileDataPromise,\n",
              "      response: {\n",
              "        action: 'continue',\n",
              "      }\n",
              "    };\n",
              "\n",
              "    // Use a chunked sending to avoid message size limits. See b/62115660.\n",
              "    let position = 0;\n",
              "    do {\n",
              "      const length = Math.min(fileData.byteLength - position, MAX_PAYLOAD_SIZE);\n",
              "      const chunk = new Uint8Array(fileData, position, length);\n",
              "      position += length;\n",
              "\n",
              "      const base64 = btoa(String.fromCharCode.apply(null, chunk));\n",
              "      yield {\n",
              "        response: {\n",
              "          action: 'append',\n",
              "          file: file.name,\n",
              "          data: base64,\n",
              "        },\n",
              "      };\n",
              "\n",
              "      let percentDone = fileData.byteLength === 0 ?\n",
              "          100 :\n",
              "          Math.round((position / fileData.byteLength) * 100);\n",
              "      percent.textContent = `${percentDone}% done`;\n",
              "\n",
              "    } while (position < fileData.byteLength);\n",
              "  }\n",
              "\n",
              "  // All done.\n",
              "  yield {\n",
              "    response: {\n",
              "      action: 'complete',\n",
              "    }\n",
              "  };\n",
              "}\n",
              "\n",
              "scope.google = scope.google || {};\n",
              "scope.google.colab = scope.google.colab || {};\n",
              "scope.google.colab._files = {\n",
              "  _uploadFiles,\n",
              "  _uploadFilesContinue,\n",
              "};\n",
              "})(self);\n",
              "</script> "
            ]
          },
          "metadata": {}
        },
        {
          "output_type": "stream",
          "name": "stdout",
          "text": [
            "Saving OECD.WISE.WDP,DSD_HSL@DF_HSL_CWB,1.1+AUS.11_2+11_1+9_3+9_2+8_2+8_1_DEP+7_2+7_1_DEP+6_2_DEP+6_2+5_3+5_1+4_3+4_1+3_2+3_1+2_7+2_2+2_1+1_3+1_2+1_1.._T._T._T. (4).csv to OECD.WISE.WDP,DSD_HSL@DF_HSL_CWB,1.1+AUS.11_2+11_1+9_3+9_2+8_2+8_1_DEP+7_2+7_1_DEP+6_2_DEP+6_2+5_3+5_1+4_3+4_1+3_2+3_1+2_7+2_2+2_1+1_3+1_2+1_1.._T._T._T. (4) (1).csv\n"
          ]
        }
      ]
    },
    {
      "cell_type": "code",
      "source": [
        "import os\n",
        "print(os.listdir())\n"
      ],
      "metadata": {
        "colab": {
          "base_uri": "https://localhost:8080/"
        },
        "id": "j-NBC0b49tsR",
        "outputId": "88571198-1c7f-4407-972b-443203053cd6"
      },
      "execution_count": 11,
      "outputs": [
        {
          "output_type": "stream",
          "name": "stdout",
          "text": [
            "['.config', 'OECD.WISE.WDP,DSD_HSL@DF_HSL_CWB,1.1+AUS.11_2+11_1+9_3+9_2+8_2+8_1_DEP+7_2+7_1_DEP+6_2_DEP+6_2+5_3+5_1+4_3+4_1+3_2+3_1+2_7+2_2+2_1+1_3+1_2+1_1.._T._T._T. (4).csv', 'OECD.WISE.WDP,DSD_HSL@DF_HSL_CWB,1.1+AUS.11_2+11_1+9_3+9_2+8_2+8_1_DEP+7_2+7_1_DEP+6_2_DEP+6_2+5_3+5_1+4_3+4_1+3_2+3_1+2_7+2_2+2_1+1_3+1_2+1_1.._T._T._T. (4) (1).csv', 'sample_data']\n"
          ]
        }
      ]
    },
    {
      "cell_type": "code",
      "source": [
        "import pandas as pd\n",
        "\n",
        "filename = \"\"\"OECD.WISE.WDP,DSD_HSL@DF_HSL_CWB,1.1+AUS.11_2+11_1+9_3+9_2+8_2+8_1_DEP+7_2+7_1_DEP+6_2_DEP+6_2+5_3+5_1+4_3+4_1+3_2+3_1+2_7+2_2+2_1+1_3+1_2+1_1.._T._T._T. (4).csv\"\"\"\n",
        "df = pd.read_csv(filename)\n",
        "print(df.head())\n"
      ],
      "metadata": {
        "colab": {
          "base_uri": "https://localhost:8080/"
        },
        "id": "_aRqGYiF9wS4",
        "outputId": "b5df993d-f534-420d-d750-5e2118b6f6bc"
      },
      "execution_count": 12,
      "outputs": [
        {
          "output_type": "stream",
          "name": "stdout",
          "text": [
            "  STRUCTURE                           STRUCTURE_ID      STRUCTURE_NAME ACTION  \\\n",
            "0  DATAFLOW  OECD.WISE.WDP:DSD_HSL@DF_HSL_CWB(1.1)  Current well-being      I   \n",
            "1  DATAFLOW  OECD.WISE.WDP:DSD_HSL@DF_HSL_CWB(1.1)  Current well-being      I   \n",
            "2  DATAFLOW  OECD.WISE.WDP:DSD_HSL@DF_HSL_CWB(1.1)  Current well-being      I   \n",
            "3  DATAFLOW  OECD.WISE.WDP:DSD_HSL@DF_HSL_CWB(1.1)  Current well-being      I   \n",
            "4  DATAFLOW  OECD.WISE.WDP:DSD_HSL@DF_HSL_CWB(1.1)  Current well-being      I   \n",
            "\n",
            "  REF_AREA Reference area MEASURE                          Measure  \\\n",
            "0      AUS      Australia     9_3  Exposure to extreme temperature   \n",
            "1      AUS      Australia     9_3  Exposure to extreme temperature   \n",
            "2      AUS      Australia     5_1         Life expectancy at birth   \n",
            "3      AUS      Australia     5_1         Life expectancy at birth   \n",
            "4      AUS      Australia     5_1         Life expectancy at birth   \n",
            "\n",
            "  UNIT_MEASURE           Unit of measure  ...  OBS_VALUE Observation value  \\\n",
            "0       PT_POP  Percentage of population  ...   5.700707               NaN   \n",
            "1       PT_POP  Percentage of population  ...  28.232000               NaN   \n",
            "2            Y                     Years  ...  82.500000               NaN   \n",
            "3            Y                     Years  ...  82.400000               NaN   \n",
            "4            Y                     Years  ...  82.400000               NaN   \n",
            "\n",
            "  OBS_STATUS Observation status UNIT_MULT Unit multiplier DECIMALS Decimals  \\\n",
            "0          A       Normal value         0           Units        2      Two   \n",
            "1          A       Normal value         0           Units        2      Two   \n",
            "2          A       Normal value         0           Units        2      Two   \n",
            "3          A       Normal value         0           Units        2      Two   \n",
            "4          A       Normal value         0           Units        2      Two   \n",
            "\n",
            "   BASE_PER  Base period  \n",
            "0       NaN          NaN  \n",
            "1       NaN          NaN  \n",
            "2       NaN          NaN  \n",
            "3       NaN          NaN  \n",
            "4       NaN          NaN  \n",
            "\n",
            "[5 rows x 30 columns]\n"
          ]
        }
      ]
    },
    {
      "cell_type": "code",
      "source": [
        "for i, col in enumerate(df_clean.columns):\n",
        "    print(i, col)\n",
        "\n"
      ],
      "metadata": {
        "colab": {
          "base_uri": "https://localhost:8080/"
        },
        "id": "xh2L8oy-9zln",
        "outputId": "95d5bf50-de92-44ee-ae28-2eb2cd79428d"
      },
      "execution_count": 14,
      "outputs": [
        {
          "output_type": "stream",
          "name": "stdout",
          "text": [
            "0 structure\n",
            "1 structure_id\n",
            "2 structure_name\n",
            "3 action\n",
            "4 ref_area\n",
            "5 reference_area\n",
            "6 measure\n",
            "7 measure\n",
            "8 unit_measure\n",
            "9 unit_of_measure\n",
            "10 age\n",
            "11 age\n",
            "12 sex\n",
            "13 sex\n",
            "14 education_lev\n",
            "15 education_level\n",
            "16 domain\n",
            "17 domain\n",
            "18 time_period\n",
            "19 time_period\n",
            "20 obs_value\n",
            "21 observation_value\n",
            "22 obs_status\n",
            "23 observation_status\n",
            "24 unit_mult\n",
            "25 unit_multiplier\n",
            "26 decimals\n",
            "27 decimals\n",
            "28 base_per\n",
            "29 base_period\n"
          ]
        }
      ]
    },
    {
      "cell_type": "code",
      "source": [
        "df_clean = df_clean.loc[:, ~df_clean.columns.duplicated()]\n",
        "print(df_clean.columns)\n"
      ],
      "metadata": {
        "colab": {
          "base_uri": "https://localhost:8080/"
        },
        "id": "Nmonku99-Kdh",
        "outputId": "8e76d43d-87b5-4c78-eba1-e66964d3bdab"
      },
      "execution_count": 15,
      "outputs": [
        {
          "output_type": "stream",
          "name": "stdout",
          "text": [
            "Index(['structure', 'structure_id', 'structure_name', 'action', 'ref_area',\n",
            "       'reference_area', 'measure', 'unit_measure', 'unit_of_measure', 'age',\n",
            "       'sex', 'education_lev', 'education_level', 'domain', 'time_period',\n",
            "       'obs_value', 'observation_value', 'obs_status', 'observation_status',\n",
            "       'unit_mult', 'unit_multiplier', 'decimals', 'base_per', 'base_period'],\n",
            "      dtype='object')\n"
          ]
        }
      ]
    },
    {
      "cell_type": "code",
      "source": [
        "key_measures = ['11_1', '2_1']\n",
        "df_filtered = df_clean[df_clean['measure'].isin(key_measures)]\n",
        "print(df_filtered[['measure', 'domain', 'time_period', 'obs_value']].head())\n"
      ],
      "metadata": {
        "colab": {
          "base_uri": "https://localhost:8080/"
        },
        "id": "AtcZU0sn-Mgo",
        "outputId": "95a4a81f-6ac2-4b93-cc9a-66ebc28750f8"
      },
      "execution_count": 16,
      "outputs": [
        {
          "output_type": "stream",
          "name": "stdout",
          "text": [
            "   measure domain  time_period  obs_value\n",
            "87     2_1  HSL_2         2011     75.798\n",
            "88     2_1  HSL_2         2010     75.444\n",
            "89     2_1  HSL_2         2024     80.266\n",
            "90     2_1  HSL_2         2023     80.100\n",
            "91     2_1  HSL_2         2022     79.578\n"
          ]
        }
      ]
    },
    {
      "cell_type": "code",
      "source": [
        "columns_to_keep = ['measure', 'domain', 'time_period', 'obs_value']\n",
        "df_clean = df_clean[columns_to_keep]\n"
      ],
      "metadata": {
        "id": "HSkJxbBQ-PlL"
      },
      "execution_count": 17,
      "outputs": []
    },
    {
      "cell_type": "code",
      "source": [
        "# Step A: Drop duplicate columns keeping only the first occurrence\n",
        "df_clean = df_clean.loc[:, ~df_clean.columns.duplicated()]\n",
        "\n",
        "# Step B: Now filter for your key measures\n",
        "key_measures = ['11_1', '2_1']\n",
        "df_filtered = df_clean[df_clean['measure'].isin(key_measures)]\n",
        "\n",
        "# Step C: Preview filtered data\n",
        "print(df_filtered[['measure', 'domain', 'time_period', 'obs_value']].head())\n"
      ],
      "metadata": {
        "colab": {
          "base_uri": "https://localhost:8080/"
        },
        "id": "h7UIsb6M-Ry4",
        "outputId": "bf2fa3d8-ed13-4b15-ae2d-2e4e37c7891a"
      },
      "execution_count": 18,
      "outputs": [
        {
          "output_type": "stream",
          "name": "stdout",
          "text": [
            "   measure domain  time_period  obs_value\n",
            "87     2_1  HSL_2         2011     75.798\n",
            "88     2_1  HSL_2         2010     75.444\n",
            "89     2_1  HSL_2         2024     80.266\n",
            "90     2_1  HSL_2         2023     80.100\n",
            "91     2_1  HSL_2         2022     79.578\n"
          ]
        }
      ]
    },
    {
      "cell_type": "code",
      "source": [
        "# Checkpoint 1: Data Loading and Cleaning (Ready to Use)\n",
        "\n",
        "import pandas as pd\n",
        "\n",
        "# --- Step 1: Load the data file ---\n",
        "# Replace or verify your exact filename; wrap it in triple quotes if complex like yours\n",
        "filename = \"\"\"OECD.WISE.WDP,DSD_HSL@DF_HSL_CWB,1.1+AUS.11_2+11_1+9_3+9_2+8_2+8_1_DEP+7_2+7_1_DEP+6_2_DEP+6_2+5_3+5_1+4_3+4_1+3_2+3_1+2_7+2_2+2_1+1_3+1_2+1_1.._T._T._T. (4).csv\"\"\"\n",
        "df = pd.read_csv(filename)\n",
        "\n",
        "# --- Step 2: Clean column names for easier handling ---\n",
        "df.columns = df.columns.str.strip().str.lower().str.replace(\" \", \"_\").str.replace(\"-\", \"_\")\n",
        "\n",
        "# --- Step 3: Remove duplicate columns (keep first occurrence) ---\n",
        "df = df.loc[:, ~df.columns.duplicated()]\n",
        "\n",
        "# --- Step 4: Drop rows with missing values in key measurement column 'obs_value' ---\n",
        "df_clean = df.dropna(subset=['obs_value'])\n",
        "print(f\"Rows after dropping missing obs_value: {df_clean.shape[0]}\")\n",
        "\n",
        "# --- Step 5: Filter to keep only 'life satisfaction' and 'employment rate' ---\n",
        "# '11_1' = life satisfaction, '2_1' = employment rate\n",
        "key_measures = ['11_1', '2_1']\n",
        "df_filtered = df_clean[df_clean['measure'].isin(key_measures)]\n",
        "\n",
        "print(\"Preview filtered data:\")\n",
        "print(df_filtered[['measure', 'domain', 'time_period', 'obs_value']].head())\n",
        "\n",
        "# --- Step 6: Pivot data to have one row per year, columns for each measure ---\n",
        "df_pivot = df_filtered.pivot(index='time_period', columns='measure', values='obs_value').reset_index()\n",
        "\n",
        "# Rename columns for clarity\n",
        "df_pivot.rename(columns={'11_1': 'life_satisfaction', '2_1': 'employment_rate'}, inplace=True)\n",
        "\n",
        "# Sort data by time_period (year)\n",
        "df_pivot = df_pivot.sort_values(by='time_period').reset_index(drop=True)\n",
        "\n",
        "print(\"Pivoted data (first 15 rows):\")\n",
        "print(df_pivot.head(15))\n",
        "\n",
        "# --- Step 7: Convert columns to numeric for analysis and plotting ---\n",
        "df_pivot['life_satisfaction'] = pd.to_numeric(df_pivot['life_satisfaction'], errors='coerce')\n",
        "df_pivot['employment_rate'] = pd.to_numeric(df_pivot['employment_rate'], errors='coerce')\n",
        "df_pivot['time_period'] = pd.to_numeric(df_pivot['time_period'], errors='coerce')\n",
        "\n",
        "print(\"Data types after conversion:\")\n",
        "print(df_pivot.dtypes)\n",
        "\n",
        "# --- Step 8 (Optional): Save cleaned & pivoted data for easy access later ---\n",
        "df_pivot.to_csv(\"australia_life_satisfaction_employment.csv\", index=False)\n",
        "print(\"Cleaned data saved to 'australia_life_satisfaction_employment.csv'\")\n"
      ],
      "metadata": {
        "colab": {
          "base_uri": "https://localhost:8080/"
        },
        "id": "mg087LSR-jAI",
        "outputId": "505c5c77-d140-437e-b9ae-153c43c4b56d"
      },
      "execution_count": 19,
      "outputs": [
        {
          "output_type": "stream",
          "name": "stdout",
          "text": [
            "Rows after dropping missing obs_value: 192\n",
            "Preview filtered data:\n",
            "   measure domain  time_period  obs_value\n",
            "87     2_1  HSL_2         2011     75.798\n",
            "88     2_1  HSL_2         2010     75.444\n",
            "89     2_1  HSL_2         2024     80.266\n",
            "90     2_1  HSL_2         2023     80.100\n",
            "91     2_1  HSL_2         2022     79.578\n",
            "Pivoted data (first 15 rows):\n",
            "measure  time_period  life_satisfaction  employment_rate\n",
            "0               2010                NaN           75.444\n",
            "1               2011                NaN           75.798\n",
            "2               2012                NaN           75.589\n",
            "3               2013                NaN           75.336\n",
            "4               2014                NaN           75.050\n",
            "5               2015                NaN           75.580\n",
            "6               2016                NaN           75.888\n",
            "7               2017                NaN           76.380\n",
            "8               2018                NaN           76.917\n",
            "9               2019                7.5           77.598\n",
            "10              2020                7.2           76.129\n",
            "11              2021                NaN           77.851\n",
            "12              2022                NaN           79.578\n",
            "13              2023                NaN           80.100\n",
            "14              2024                NaN           80.266\n",
            "Data types after conversion:\n",
            "measure\n",
            "time_period            int64\n",
            "life_satisfaction    float64\n",
            "employment_rate      float64\n",
            "dtype: object\n",
            "Cleaned data saved to 'australia_life_satisfaction_employment.csv'\n"
          ]
        }
      ]
    },
    {
      "cell_type": "code",
      "source": [
        "import matplotlib.pyplot as plt\n",
        "\n",
        "# Set figure size for better readability\n",
        "plt.figure(figsize=(10, 6))\n",
        "\n",
        "# Plot life satisfaction with label and color\n",
        "plt.plot(df_pivot['time_period'], df_pivot['life_satisfaction'], label='Life Satisfaction', color='blue', marker='o')\n",
        "\n",
        "# Plot employment rate with label and color\n",
        "plt.plot(df_pivot['time_period'], df_pivot['employment_rate'], label='Employment Rate', color='green', marker='o')\n",
        "\n",
        "# Add title and axis labels (properly closed strings)\n",
        "plt.title('Life Satisfaction and Employment Rate in Australia (2010-2024)', fontsize=14)\n",
        "plt.xlabel('Year', fontsize=12)\n",
        "plt.ylabel('Value', fontsize=12)\n",
        "\n",
        "# Add grid for easier visual tracking\n",
        "plt.grid(True)\n",
        "\n",
        "# Add legend to distinguish lines\n",
        "plt.legend()\n",
        "\n",
        "# Show the plot\n",
        "plt.show()\n",
        "\n"
      ],
      "metadata": {
        "colab": {
          "base_uri": "https://localhost:8080/",
          "height": 427
        },
        "id": "kATIH3DU-kWq",
        "outputId": "736ab4f6-7bbc-4f6b-bbd5-f4498101ed1c"
      },
      "execution_count": 24,
      "outputs": [
        {
          "output_type": "display_data",
          "data": {
            "text/plain": [
              "<Figure size 1000x600 with 1 Axes>"
            ],
            "image/png": "[encoded data removed]"
          },
          "metadata": {}
        }
      ]
    },
    {
      "cell_type": "code",
      "source": [
        "corr = df_pivot[['life_satisfaction', 'employment_rate']].corr().iloc[0, 1]\n",
        "print(corr)\n"
      ],
      "metadata": {
        "colab": {
          "base_uri": "https://localhost:8080/"
        },
        "id": "qa2v4BgTHg5R",
        "outputId": "629f42a1-f626-463e-9c74-63c5f72490d9"
      },
      "execution_count": 25,
      "outputs": [
        {
          "output_type": "stream",
          "name": "stdout",
          "text": [
            "1.0000000000000016\n"
          ]
        }
      ]
    },
    {
      "cell_type": "code",
      "source": [
        "import seaborn as sns\n",
        "import matplotlib.pyplot as plt\n",
        "\n",
        "# Histogram for life satisfaction\n",
        "sns.histplot(df_pivot['life_satisfaction'].dropna(), kde=True)\n",
        "plt.title('Distribution of Life Satisfaction')\n",
        "plt.show()\n",
        "\n",
        "# Histogram for employment rate\n",
        "sns.histplot(df_pivot['employment_rate'].dropna(), kde=True)\n",
        "plt.title('Distribution of Employment Rate')\n",
        "plt.show()\n",
        "\n",
        "# Boxplots to check for outliers\n",
        "sns.boxplot(x=df_pivot['life_satisfaction'])\n",
        "plt.title('Boxplot: Life Satisfaction')\n",
        "plt.show()\n",
        "\n",
        "sns.boxplot(x=df_pivot['employment_rate'])\n",
        "plt.title('Boxplot: Employment Rate')\n",
        "plt.show()\n"
      ],
      "metadata": {
        "colab": {
          "base_uri": "https://localhost:8080/",
          "height": 1000
        },
        "id": "iJpQ942eJOz1",
        "outputId": "ffe64097-3dba-412d-83c3-169862c72bd9"
      },
      "execution_count": 26,
      "outputs": [
        {
          "output_type": "display_data",
          "data": {
            "text/plain": [
              "<Figure size 640x480 with 1 Axes>"
            ],
            "image/png": "[encoded data removed]"
          },
          "metadata": {}
        },
        {
          "output_type": "display_data",
          "data": {
            "text/plain": [
              "<Figure size 640x480 with 1 Axes>"
            ],
            "image/png": "[encoded data removed]"
          },
          "metadata": {}
        },
        {
          "output_type": "display_data",
          "data": {
            "text/plain": [
              "<Figure size 640x480 with 1 Axes>"
            ],
            "image/png": "[encoded data removed]"
          },
          "metadata": {}
        },
        {
          "output_type": "display_data",
          "data": {
            "text/plain": [
              "<Figure size 640x480 with 1 Axes>"
            ],
            "image/png": "[encoded data removed]"
          },
          "metadata": {}
        }
      ]
    },
    {
      "cell_type": "code",
      "source": [
        "corr = df_pivot[['life_satisfaction', 'employment_rate']].corr().iloc[0,1]\n",
        "print(f'Correlation between life satisfaction and employment rate: {corr:.3f}')\n"
      ],
      "metadata": {
        "colab": {
          "base_uri": "https://localhost:8080/"
        },
        "id": "x9A27vNSJX52",
        "outputId": "f8ddb041-76a2-4766-8a33-3a7845e157c6"
      },
      "execution_count": 27,
      "outputs": [
        {
          "output_type": "stream",
          "name": "stdout",
          "text": [
            "Correlation between life satisfaction and employment rate: 1.000\n"
          ]
        }
      ]
    },
    {
      "cell_type": "code",
      "source": [
        "df.head()\n",
        "df.columns\n"
      ],
      "metadata": {
        "colab": {
          "base_uri": "https://localhost:8080/"
        },
        "id": "BRVJzn7yUWmQ",
        "outputId": "5e8f1465-deea-4728-bcd3-a0e125ac0691"
      },
      "execution_count": 28,
      "outputs": [
        {
          "output_type": "execute_result",
          "data": {
            "text/plain": [
              "Index(['structure', 'structure_id', 'structure_name', 'action', 'ref_area',\n",
              "       'reference_area', 'measure', 'unit_measure', 'unit_of_measure', 'age',\n",
              "       'sex', 'education_lev', 'education_level', 'domain', 'time_period',\n",
              "       'obs_value', 'observation_value', 'obs_status', 'observation_status',\n",
              "       'unit_mult', 'unit_multiplier', 'decimals', 'base_per', 'base_period'],\n",
              "      dtype='object')"
            ]
          },
          "metadata": {},
          "execution_count": 28
        }
      ]
    },
    {
      "cell_type": "code",
      "source": [
        "df['domain'].unique()\n"
      ],
      "metadata": {
        "colab": {
          "base_uri": "https://localhost:8080/"
        },
        "id": "cJUHf6n4Uf7L",
        "outputId": "cde22f01-7533-4ad4-8742-9595e47d135d"
      },
      "execution_count": 29,
      "outputs": [
        {
          "output_type": "execute_result",
          "data": {
            "text/plain": [
              "array(['HSL_9', 'HSL_5', 'HSL_2', 'HSL_1', 'HSL_11', 'HSL_7', 'HSL_8',\n",
              "       'HSL_6', 'HSL_3'], dtype=object)"
            ]
          },
          "metadata": {},
          "execution_count": 29
        }
      ]
    },
    {
      "cell_type": "code",
      "source": [
        "df[['time_period']].head()\n"
      ],
      "metadata": {
        "colab": {
          "base_uri": "https://localhost:8080/",
          "height": 206
        },
        "id": "ASgZFwwJUlbs",
        "outputId": "9c6b63f8-5c8d-400e-8882-9ebb8f96318a"
      },
      "execution_count": 30,
      "outputs": [
        {
          "output_type": "execute_result",
          "data": {
            "text/plain": [
              "   time_period\n",
              "0         2020\n",
              "1         2019\n",
              "2         2017\n",
              "3         2016\n",
              "4         2015"
            ],
            "text/html": [
              "\n",
              "  <div id=\"df-4739529c-7b6b-4867-ac58-c65e426efb1f\" class=\"colab-df-container\">\n",
              "    <div>\n",
              "<style scoped>\n",
              "    .dataframe tbody tr th:only-of-type {\n",
              "        vertical-align: middle;\n",
              "    }\n",
              "\n",
              "    .dataframe tbody tr th {\n",
              "        vertical-align: top;\n",
              "    }\n",
              "\n",
              "    .dataframe thead th {\n",
              "        text-align: right;\n",
              "    }\n",
              "</style>\n",
              "<table border=\"1\" class=\"dataframe\">\n",
              "  <thead>\n",
              "    <tr style=\"text-align: right;\">\n",
              "      <th></th>\n",
              "      <th>time_period</th>\n",
              "    </tr>\n",
              "  </thead>\n",
              "  <tbody>\n",
              "    <tr>\n",
              "      <th>0</th>\n",
              "      <td>2020</td>\n",
              "    </tr>\n",
              "    <tr>\n",
              "      <th>1</th>\n",
              "      <td>2019</td>\n",
              "    </tr>\n",
              "    <tr>\n",
              "      <th>2</th>\n",
              "      <td>2017</td>\n",
              "    </tr>\n",
              "    <tr>\n",
              "      <th>3</th>\n",
              "      <td>2016</td>\n",
              "    </tr>\n",
              "    <tr>\n",
              "      <th>4</th>\n",
              "      <td>2015</td>\n",
              "    </tr>\n",
              "  </tbody>\n",
              "</table>\n",
              "</div>\n",
              "    <div class=\"colab-df-buttons\">\n",
              "\n",
              "  <div class=\"colab-df-container\">\n",
              "    <button class=\"colab-df-convert\" onclick=\"convertToInteractive('df-4739529c-7b6b-4867-ac58-c65e426efb1f')\"\n",
              "            title=\"Convert this dataframe to an interactive table.\"\n",
              "            style=\"display:none;\">\n",
              "\n",
              "  <svg xmlns=\"http://www.w3.org/2000/svg\" height=\"24px\" viewBox=\"0 -960 960 960\">\n",
              "    <path d=\"M120-120v-720h720v720H120Zm60-500h600v-160H180v160Zm220 220h160v-160H400v160Zm0 220h160v-160H400v160ZM180-400h160v-160H180v160Zm440 0h160v-160H620v160ZM180-180h160v-160H180v160Zm440 0h160v-160H620v160Z\"/>\n",
              "  </svg>\n",
              "    </button>\n",
              "\n",
              "  <style>\n",
              "    .colab-df-container {\n",
              "      display:flex;\n",
              "      gap: 12px;\n",
              "    }\n",
              "\n",
              "    .colab-df-convert {\n",
              "      background-color: #E8F0FE;\n",
              "      border: none;\n",
              "      border-radius: 50%;\n",
              "      cursor: pointer;\n",
              "      display: none;\n",
              "      fill: #1967D2;\n",
              "      height: 32px;\n",
              "      padding: 0 0 0 0;\n",
              "      width: 32px;\n",
              "    }\n",
              "\n",
              "    .colab-df-convert:hover {\n",
              "      background-color: #E2EBFA;\n",
              "      box-shadow: 0px 1px 2px rgba(60, 64, 67, 0.3), 0px 1px 3px 1px rgba(60, 64, 67, 0.15);\n",
              "      fill: #174EA6;\n",
              "    }\n",
              "\n",
              "    .colab-df-buttons div {\n",
              "      margin-bottom: 4px;\n",
              "    }\n",
              "\n",
              "    [theme=dark] .colab-df-convert {\n",
              "      background-color: #3B4455;\n",
              "      fill: #D2E3FC;\n",
              "    }\n",
              "\n",
              "    [theme=dark] .colab-df-convert:hover {\n",
              "      background-color: #434B5C;\n",
              "      box-shadow: 0px 1px 3px 1px rgba(0, 0, 0, 0.15);\n",
              "      filter: drop-shadow(0px 1px 2px rgba(0, 0, 0, 0.3));\n",
              "      fill: #FFFFFF;\n",
              "    }\n",
              "  </style>\n",
              "\n",
              "    <script>\n",
              "      const buttonEl =\n",
              "        document.querySelector('#df-4739529c-7b6b-4867-ac58-c65e426efb1f button.colab-df-convert');\n",
              "      buttonEl.style.display =\n",
              "        google.colab.kernel.accessAllowed ? 'block' : 'none';\n",
              "\n",
              "      async function convertToInteractive(key) {\n",
              "        const element = document.querySelector('#df-4739529c-7b6b-4867-ac58-c65e426efb1f');\n",
              "        const dataTable =\n",
              "          await google.colab.kernel.invokeFunction('convertToInteractive',\n",
              "                                                    [key], {});\n",
              "        if (!dataTable) return;\n",
              "\n",
              "        const docLinkHtml = 'Like what you see? Visit the ' +\n",
              "          '<a target=\"_blank\" href=https://colab.research.google.com/notebooks/data_table.ipynb>data table notebook</a>'\n",
              "          + ' to learn more about interactive tables.';\n",
              "        element.innerHTML = '';\n",
              "        dataTable['output_type'] = 'display_data';\n",
              "        await google.colab.output.renderOutput(dataTable, element);\n",
              "        const docLink = document.createElement('div');\n",
              "        docLink.innerHTML = docLinkHtml;\n",
              "        element.appendChild(docLink);\n",
              "      }\n",
              "    </script>\n",
              "  </div>\n",
              "\n",
              "\n",
              "    <div id=\"df-cbc074a0-55ff-441b-9b5a-4dc9f6e4a86c\">\n",
              "      <button class=\"colab-df-quickchart\" onclick=\"quickchart('df-cbc074a0-55ff-441b-9b5a-4dc9f6e4a86c')\"\n",
              "                title=\"Suggest charts\"\n",
              "                style=\"display:none;\">\n",
              "\n",
              "<svg xmlns=\"http://www.w3.org/2000/svg\" height=\"24px\"viewBox=\"0 0 24 24\"\n",
              "     width=\"24px\">\n",
              "    <g>\n",
              "        <path d=\"M19 3H5c-1.1 0-2 .9-2 2v14c0 1.1.9 2 2 2h14c1.1 0 2-.9 2-2V5c0-1.1-.9-2-2-2zM9 17H7v-7h2v7zm4 0h-2V7h2v10zm4 0h-2v-4h2v4z\"/>\n",
              "    </g>\n",
              "</svg>\n",
              "      </button>\n",
              "\n",
              "<style>\n",
              "  .colab-df-quickchart {\n",
              "      --bg-color: #E8F0FE;\n",
              "      --fill-color: #1967D2;\n",
              "      --hover-bg-color: #E2EBFA;\n",
              "      --hover-fill-color: #174EA6;\n",
              "      --disabled-fill-color: #AAA;\n",
              "      --disabled-bg-color: #DDD;\n",
              "  }\n",
              "\n",
              "  [theme=dark] .colab-df-quickchart {\n",
              "      --bg-color: #3B4455;\n",
              "      --fill-color: #D2E3FC;\n",
              "      --hover-bg-color: #434B5C;\n",
              "      --hover-fill-color: #FFFFFF;\n",
              "      --disabled-bg-color: #3B4455;\n",
              "      --disabled-fill-color: #666;\n",
              "  }\n",
              "\n",
              "  .colab-df-quickchart {\n",
              "    background-color: var(--bg-color);\n",
              "    border: none;\n",
              "    border-radius: 50%;\n",
              "    cursor: pointer;\n",
              "    display: none;\n",
              "    fill: var(--fill-color);\n",
              "    height: 32px;\n",
              "    padding: 0;\n",
              "    width: 32px;\n",
              "  }\n",
              "\n",
              "  .colab-df-quickchart:hover {\n",
              "    background-color: var(--hover-bg-color);\n",
              "    box-shadow: 0 1px 2px rgba(60, 64, 67, 0.3), 0 1px 3px 1px rgba(60, 64, 67, 0.15);\n",
              "    fill: var(--button-hover-fill-color);\n",
              "  }\n",
              "\n",
              "  .colab-df-quickchart-complete:disabled,\n",
              "  .colab-df-quickchart-complete:disabled:hover {\n",
              "    background-color: var(--disabled-bg-color);\n",
              "    fill: var(--disabled-fill-color);\n",
              "    box-shadow: none;\n",
              "  }\n",
              "\n",
              "  .colab-df-spinner {\n",
              "    border: 2px solid var(--fill-color);\n",
              "    border-color: transparent;\n",
              "    border-bottom-color: var(--fill-color);\n",
              "    animation:\n",
              "      spin 1s steps(1) infinite;\n",
              "  }\n",
              "\n",
              "  @keyframes spin {\n",
              "    0% {\n",
              "      border-color: transparent;\n",
              "      border-bottom-color: var(--fill-color);\n",
              "      border-left-color: var(--fill-color);\n",
              "    }\n",
              "    20% {\n",
              "      border-color: transparent;\n",
              "      border-left-color: var(--fill-color);\n",
              "      border-top-color: var(--fill-color);\n",
              "    }\n",
              "    30% {\n",
              "      border-color: transparent;\n",
              "      border-left-color: var(--fill-color);\n",
              "      border-top-color: var(--fill-color);\n",
              "      border-right-color: var(--fill-color);\n",
              "    }\n",
              "    40% {\n",
              "      border-color: transparent;\n",
              "      border-right-color: var(--fill-color);\n",
              "      border-top-color: var(--fill-color);\n",
              "    }\n",
              "    60% {\n",
              "      border-color: transparent;\n",
              "      border-right-color: var(--fill-color);\n",
              "    }\n",
              "    80% {\n",
              "      border-color: transparent;\n",
              "      border-right-color: var(--fill-color);\n",
              "      border-bottom-color: var(--fill-color);\n",
              "    }\n",
              "    90% {\n",
              "      border-color: transparent;\n",
              "      border-bottom-color: var(--fill-color);\n",
              "    }\n",
              "  }\n",
              "</style>\n",
              "\n",
              "      <script>\n",
              "        async function quickchart(key) {\n",
              "          const quickchartButtonEl =\n",
              "            document.querySelector('#' + key + ' button');\n",
              "          quickchartButtonEl.disabled = true;  // To prevent multiple clicks.\n",
              "          quickchartButtonEl.classList.add('colab-df-spinner');\n",
              "          try {\n",
              "            const charts = await google.colab.kernel.invokeFunction(\n",
              "                'suggestCharts', [key], {});\n",
              "          } catch (error) {\n",
              "            console.error('Error during call to suggestCharts:', error);\n",
              "          }\n",
              "          quickchartButtonEl.classList.remove('colab-df-spinner');\n",
              "          quickchartButtonEl.classList.add('colab-df-quickchart-complete');\n",
              "        }\n",
              "        (() => {\n",
              "          let quickchartButtonEl =\n",
              "            document.querySelector('#df-cbc074a0-55ff-441b-9b5a-4dc9f6e4a86c button');\n",
              "          quickchartButtonEl.style.display =\n",
              "            google.colab.kernel.accessAllowed ? 'block' : 'none';\n",
              "        })();\n",
              "      </script>\n",
              "    </div>\n",
              "\n",
              "    </div>\n",
              "  </div>\n"
            ],
            "application/vnd.google.colaboratory.intrinsic+json": {
              "type": "dataframe",
              "summary": "{\n  \"name\": \"df[['time_period']]\",\n  \"rows\": 5,\n  \"fields\": [\n    {\n      \"column\": \"time_period\",\n      \"properties\": {\n        \"dtype\": \"number\",\n        \"std\": 2,\n        \"min\": 2015,\n        \"max\": 2020,\n        \"num_unique_values\": 5,\n        \"samples\": [\n          2019,\n          2015,\n          2017\n        ],\n        \"semantic_type\": \"\",\n        \"description\": \"\"\n      }\n    }\n  ]\n}"
            }
          },
          "metadata": {},
          "execution_count": 30
        }
      ]
    },
    {
      "cell_type": "code",
      "source": [
        "print(df['domain'].unique())\n",
        "print(df[['time_period','obs_value']].head())\n"
      ],
      "metadata": {
        "colab": {
          "base_uri": "https://localhost:8080/"
        },
        "id": "E8E0JS0uUrql",
        "outputId": "d3819369-7297-4e60-b165-e18271bede15"
      },
      "execution_count": 31,
      "outputs": [
        {
          "output_type": "stream",
          "name": "stdout",
          "text": [
            "['HSL_9' 'HSL_5' 'HSL_2' 'HSL_1' 'HSL_11' 'HSL_7' 'HSL_8' 'HSL_6' 'HSL_3']\n",
            "   time_period  obs_value\n",
            "0         2020   5.700707\n",
            "1         2019  28.232000\n",
            "2         2017  82.500000\n",
            "3         2016  82.400000\n",
            "4         2015  82.400000\n"
          ]
        }
      ]
    },
    {
      "cell_type": "code",
      "source": [
        "df.groupby('domain')['structure_name'].unique()\n"
      ],
      "metadata": {
        "colab": {
          "base_uri": "https://localhost:8080/",
          "height": 398
        },
        "id": "EA_M5GvbVRsE",
        "outputId": "04ffbd8a-1ec0-49ac-ef5e-2f7dbd6d56db"
      },
      "execution_count": 32,
      "outputs": [
        {
          "output_type": "execute_result",
          "data": {
            "text/plain": [
              "domain\n",
              "HSL_1     [Current well-being]\n",
              "HSL_11    [Current well-being]\n",
              "HSL_2     [Current well-being]\n",
              "HSL_3     [Current well-being]\n",
              "HSL_5     [Current well-being]\n",
              "HSL_6     [Current well-being]\n",
              "HSL_7     [Current well-being]\n",
              "HSL_8     [Current well-being]\n",
              "HSL_9     [Current well-being]\n",
              "Name: structure_name, dtype: object"
            ],
            "text/html": [
              "<div>\n",
              "<style scoped>\n",
              "    .dataframe tbody tr th:only-of-type {\n",
              "        vertical-align: middle;\n",
              "    }\n",
              "\n",
              "    .dataframe tbody tr th {\n",
              "        vertical-align: top;\n",
              "    }\n",
              "\n",
              "    .dataframe thead th {\n",
              "        text-align: right;\n",
              "    }\n",
              "</style>\n",
              "<table border=\"1\" class=\"dataframe\">\n",
              "  <thead>\n",
              "    <tr style=\"text-align: right;\">\n",
              "      <th></th>\n",
              "      <th>structure_name</th>\n",
              "    </tr>\n",
              "    <tr>\n",
              "      <th>domain</th>\n",
              "      <th></th>\n",
              "    </tr>\n",
              "  </thead>\n",
              "  <tbody>\n",
              "    <tr>\n",
              "      <th>HSL_1</th>\n",
              "      <td>[Current well-being]</td>\n",
              "    </tr>\n",
              "    <tr>\n",
              "      <th>HSL_11</th>\n",
              "      <td>[Current well-being]</td>\n",
              "    </tr>\n",
              "    <tr>\n",
              "      <th>HSL_2</th>\n",
              "      <td>[Current well-being]</td>\n",
              "    </tr>\n",
              "    <tr>\n",
              "      <th>HSL_3</th>\n",
              "      <td>[Current well-being]</td>\n",
              "    </tr>\n",
              "    <tr>\n",
              "      <th>HSL_5</th>\n",
              "      <td>[Current well-being]</td>\n",
              "    </tr>\n",
              "    <tr>\n",
              "      <th>HSL_6</th>\n",
              "      <td>[Current well-being]</td>\n",
              "    </tr>\n",
              "    <tr>\n",
              "      <th>HSL_7</th>\n",
              "      <td>[Current well-being]</td>\n",
              "    </tr>\n",
              "    <tr>\n",
              "      <th>HSL_8</th>\n",
              "      <td>[Current well-being]</td>\n",
              "    </tr>\n",
              "    <tr>\n",
              "      <th>HSL_9</th>\n",
              "      <td>[Current well-being]</td>\n",
              "    </tr>\n",
              "  </tbody>\n",
              "</table>\n",
              "</div><br><label><b>dtype:</b> object</label>"
            ]
          },
          "metadata": {},
          "execution_count": 32
        }
      ]
    },
    {
      "cell_type": "code",
      "source": [
        "df[['domain', 'structure', 'obs_value']].groupby(['domain','structure']).count()\n"
      ],
      "metadata": {
        "colab": {
          "base_uri": "https://localhost:8080/",
          "height": 363
        },
        "id": "9bg2oWI-Vmue",
        "outputId": "e203c20e-08d0-4c23-d788-3c47ba606533"
      },
      "execution_count": 33,
      "outputs": [
        {
          "output_type": "execute_result",
          "data": {
            "text/plain": [
              "                  obs_value\n",
              "domain structure           \n",
              "HSL_1  DATAFLOW          23\n",
              "HSL_11 DATAFLOW          16\n",
              "HSL_2  DATAFLOW          58\n",
              "HSL_3  DATAFLOW          14\n",
              "HSL_5  DATAFLOW          27\n",
              "HSL_6  DATAFLOW           6\n",
              "HSL_7  DATAFLOW          15\n",
              "HSL_8  DATAFLOW           8\n",
              "HSL_9  DATAFLOW          25"
            ],
            "text/html": [
              "\n",
              "  <div id=\"df-8df107de-6ec9-49e8-b9d3-0bd25241231c\" class=\"colab-df-container\">\n",
              "    <div>\n",
              "<style scoped>\n",
              "    .dataframe tbody tr th:only-of-type {\n",
              "        vertical-align: middle;\n",
              "    }\n",
              "\n",
              "    .dataframe tbody tr th {\n",
              "        vertical-align: top;\n",
              "    }\n",
              "\n",
              "    .dataframe thead th {\n",
              "        text-align: right;\n",
              "    }\n",
              "</style>\n",
              "<table border=\"1\" class=\"dataframe\">\n",
              "  <thead>\n",
              "    <tr style=\"text-align: right;\">\n",
              "      <th></th>\n",
              "      <th></th>\n",
              "      <th>obs_value</th>\n",
              "    </tr>\n",
              "    <tr>\n",
              "      <th>domain</th>\n",
              "      <th>structure</th>\n",
              "      <th></th>\n",
              "    </tr>\n",
              "  </thead>\n",
              "  <tbody>\n",
              "    <tr>\n",
              "      <th>HSL_1</th>\n",
              "      <th>DATAFLOW</th>\n",
              "      <td>23</td>\n",
              "    </tr>\n",
              "    <tr>\n",
              "      <th>HSL_11</th>\n",
              "      <th>DATAFLOW</th>\n",
              "      <td>16</td>\n",
              "    </tr>\n",
              "    <tr>\n",
              "      <th>HSL_2</th>\n",
              "      <th>DATAFLOW</th>\n",
              "      <td>58</td>\n",
              "    </tr>\n",
              "    <tr>\n",
              "      <th>HSL_3</th>\n",
              "      <th>DATAFLOW</th>\n",
              "      <td>14</td>\n",
              "    </tr>\n",
              "    <tr>\n",
              "      <th>HSL_5</th>\n",
              "      <th>DATAFLOW</th>\n",
              "      <td>27</td>\n",
              "    </tr>\n",
              "    <tr>\n",
              "      <th>HSL_6</th>\n",
              "      <th>DATAFLOW</th>\n",
              "      <td>6</td>\n",
              "    </tr>\n",
              "    <tr>\n",
              "      <th>HSL_7</th>\n",
              "      <th>DATAFLOW</th>\n",
              "      <td>15</td>\n",
              "    </tr>\n",
              "    <tr>\n",
              "      <th>HSL_8</th>\n",
              "      <th>DATAFLOW</th>\n",
              "      <td>8</td>\n",
              "    </tr>\n",
              "    <tr>\n",
              "      <th>HSL_9</th>\n",
              "      <th>DATAFLOW</th>\n",
              "      <td>25</td>\n",
              "    </tr>\n",
              "  </tbody>\n",
              "</table>\n",
              "</div>\n",
              "    <div class=\"colab-df-buttons\">\n",
              "\n",
              "  <div class=\"colab-df-container\">\n",
              "    <button class=\"colab-df-convert\" onclick=\"convertToInteractive('df-8df107de-6ec9-49e8-b9d3-0bd25241231c')\"\n",
              "            title=\"Convert this dataframe to an interactive table.\"\n",
              "            style=\"display:none;\">\n",
              "\n",
              "  <svg xmlns=\"http://www.w3.org/2000/svg\" height=\"24px\" viewBox=\"0 -960 960 960\">\n",
              "    <path d=\"M120-120v-720h720v720H120Zm60-500h600v-160H180v160Zm220 220h160v-160H400v160Zm0 220h160v-160H400v160ZM180-400h160v-160H180v160Zm440 0h160v-160H620v160ZM180-180h160v-160H180v160Zm440 0h160v-160H620v160Z\"/>\n",
              "  </svg>\n",
              "    </button>\n",
              "\n",
              "  <style>\n",
              "    .colab-df-container {\n",
              "      display:flex;\n",
              "      gap: 12px;\n",
              "    }\n",
              "\n",
              "    .colab-df-convert {\n",
              "      background-color: #E8F0FE;\n",
              "      border: none;\n",
              "      border-radius: 50%;\n",
              "      cursor: pointer;\n",
              "      display: none;\n",
              "      fill: #1967D2;\n",
              "      height: 32px;\n",
              "      padding: 0 0 0 0;\n",
              "      width: 32px;\n",
              "    }\n",
              "\n",
              "    .colab-df-convert:hover {\n",
              "      background-color: #E2EBFA;\n",
              "      box-shadow: 0px 1px 2px rgba(60, 64, 67, 0.3), 0px 1px 3px 1px rgba(60, 64, 67, 0.15);\n",
              "      fill: #174EA6;\n",
              "    }\n",
              "\n",
              "    .colab-df-buttons div {\n",
              "      margin-bottom: 4px;\n",
              "    }\n",
              "\n",
              "    [theme=dark] .colab-df-convert {\n",
              "      background-color: #3B4455;\n",
              "      fill: #D2E3FC;\n",
              "    }\n",
              "\n",
              "    [theme=dark] .colab-df-convert:hover {\n",
              "      background-color: #434B5C;\n",
              "      box-shadow: 0px 1px 3px 1px rgba(0, 0, 0, 0.15);\n",
              "      filter: drop-shadow(0px 1px 2px rgba(0, 0, 0, 0.3));\n",
              "      fill: #FFFFFF;\n",
              "    }\n",
              "  </style>\n",
              "\n",
              "    <script>\n",
              "      const buttonEl =\n",
              "        document.querySelector('#df-8df107de-6ec9-49e8-b9d3-0bd25241231c button.colab-df-convert');\n",
              "      buttonEl.style.display =\n",
              "        google.colab.kernel.accessAllowed ? 'block' : 'none';\n",
              "\n",
              "      async function convertToInteractive(key) {\n",
              "        const element = document.querySelector('#df-8df107de-6ec9-49e8-b9d3-0bd25241231c');\n",
              "        const dataTable =\n",
              "          await google.colab.kernel.invokeFunction('convertToInteractive',\n",
              "                                                    [key], {});\n",
              "        if (!dataTable) return;\n",
              "\n",
              "        const docLinkHtml = 'Like what you see? Visit the ' +\n",
              "          '<a target=\"_blank\" href=https://colab.research.google.com/notebooks/data_table.ipynb>data table notebook</a>'\n",
              "          + ' to learn more about interactive tables.';\n",
              "        element.innerHTML = '';\n",
              "        dataTable['output_type'] = 'display_data';\n",
              "        await google.colab.output.renderOutput(dataTable, element);\n",
              "        const docLink = document.createElement('div');\n",
              "        docLink.innerHTML = docLinkHtml;\n",
              "        element.appendChild(docLink);\n",
              "      }\n",
              "    </script>\n",
              "  </div>\n",
              "\n",
              "\n",
              "    <div id=\"df-8683d921-3496-4ae5-8645-e72ea2ee0de0\">\n",
              "      <button class=\"colab-df-quickchart\" onclick=\"quickchart('df-8683d921-3496-4ae5-8645-e72ea2ee0de0')\"\n",
              "                title=\"Suggest charts\"\n",
              "                style=\"display:none;\">\n",
              "\n",
              "<svg xmlns=\"http://www.w3.org/2000/svg\" height=\"24px\"viewBox=\"0 0 24 24\"\n",
              "     width=\"24px\">\n",
              "    <g>\n",
              "        <path d=\"M19 3H5c-1.1 0-2 .9-2 2v14c0 1.1.9 2 2 2h14c1.1 0 2-.9 2-2V5c0-1.1-.9-2-2-2zM9 17H7v-7h2v7zm4 0h-2V7h2v10zm4 0h-2v-4h2v4z\"/>\n",
              "    </g>\n",
              "</svg>\n",
              "      </button>\n",
              "\n",
              "<style>\n",
              "  .colab-df-quickchart {\n",
              "      --bg-color: #E8F0FE;\n",
              "      --fill-color: #1967D2;\n",
              "      --hover-bg-color: #E2EBFA;\n",
              "      --hover-fill-color: #174EA6;\n",
              "      --disabled-fill-color: #AAA;\n",
              "      --disabled-bg-color: #DDD;\n",
              "  }\n",
              "\n",
              "  [theme=dark] .colab-df-quickchart {\n",
              "      --bg-color: #3B4455;\n",
              "      --fill-color: #D2E3FC;\n",
              "      --hover-bg-color: #434B5C;\n",
              "      --hover-fill-color: #FFFFFF;\n",
              "      --disabled-bg-color: #3B4455;\n",
              "      --disabled-fill-color: #666;\n",
              "  }\n",
              "\n",
              "  .colab-df-quickchart {\n",
              "    background-color: var(--bg-color);\n",
              "    border: none;\n",
              "    border-radius: 50%;\n",
              "    cursor: pointer;\n",
              "    display: none;\n",
              "    fill: var(--fill-color);\n",
              "    height: 32px;\n",
              "    padding: 0;\n",
              "    width: 32px;\n",
              "  }\n",
              "\n",
              "  .colab-df-quickchart:hover {\n",
              "    background-color: var(--hover-bg-color);\n",
              "    box-shadow: 0 1px 2px rgba(60, 64, 67, 0.3), 0 1px 3px 1px rgba(60, 64, 67, 0.15);\n",
              "    fill: var(--button-hover-fill-color);\n",
              "  }\n",
              "\n",
              "  .colab-df-quickchart-complete:disabled,\n",
              "  .colab-df-quickchart-complete:disabled:hover {\n",
              "    background-color: var(--disabled-bg-color);\n",
              "    fill: var(--disabled-fill-color);\n",
              "    box-shadow: none;\n",
              "  }\n",
              "\n",
              "  .colab-df-spinner {\n",
              "    border: 2px solid var(--fill-color);\n",
              "    border-color: transparent;\n",
              "    border-bottom-color: var(--fill-color);\n",
              "    animation:\n",
              "      spin 1s steps(1) infinite;\n",
              "  }\n",
              "\n",
              "  @keyframes spin {\n",
              "    0% {\n",
              "      border-color: transparent;\n",
              "      border-bottom-color: var(--fill-color);\n",
              "      border-left-color: var(--fill-color);\n",
              "    }\n",
              "    20% {\n",
              "      border-color: transparent;\n",
              "      border-left-color: var(--fill-color);\n",
              "      border-top-color: var(--fill-color);\n",
              "    }\n",
              "    30% {\n",
              "      border-color: transparent;\n",
              "      border-left-color: var(--fill-color);\n",
              "      border-top-color: var(--fill-color);\n",
              "      border-right-color: var(--fill-color);\n",
              "    }\n",
              "    40% {\n",
              "      border-color: transparent;\n",
              "      border-right-color: var(--fill-color);\n",
              "      border-top-color: var(--fill-color);\n",
              "    }\n",
              "    60% {\n",
              "      border-color: transparent;\n",
              "      border-right-color: var(--fill-color);\n",
              "    }\n",
              "    80% {\n",
              "      border-color: transparent;\n",
              "      border-right-color: var(--fill-color);\n",
              "      border-bottom-color: var(--fill-color);\n",
              "    }\n",
              "    90% {\n",
              "      border-color: transparent;\n",
              "      border-bottom-color: var(--fill-color);\n",
              "    }\n",
              "  }\n",
              "</style>\n",
              "\n",
              "      <script>\n",
              "        async function quickchart(key) {\n",
              "          const quickchartButtonEl =\n",
              "            document.querySelector('#' + key + ' button');\n",
              "          quickchartButtonEl.disabled = true;  // To prevent multiple clicks.\n",
              "          quickchartButtonEl.classList.add('colab-df-spinner');\n",
              "          try {\n",
              "            const charts = await google.colab.kernel.invokeFunction(\n",
              "                'suggestCharts', [key], {});\n",
              "          } catch (error) {\n",
              "            console.error('Error during call to suggestCharts:', error);\n",
              "          }\n",
              "          quickchartButtonEl.classList.remove('colab-df-spinner');\n",
              "          quickchartButtonEl.classList.add('colab-df-quickchart-complete');\n",
              "        }\n",
              "        (() => {\n",
              "          let quickchartButtonEl =\n",
              "            document.querySelector('#df-8683d921-3496-4ae5-8645-e72ea2ee0de0 button');\n",
              "          quickchartButtonEl.style.display =\n",
              "            google.colab.kernel.accessAllowed ? 'block' : 'none';\n",
              "        })();\n",
              "      </script>\n",
              "    </div>\n",
              "\n",
              "    </div>\n",
              "  </div>\n"
            ],
            "application/vnd.google.colaboratory.intrinsic+json": {
              "type": "dataframe",
              "summary": "{\n  \"name\": \"df[['domain', 'structure', 'obs_value']]\",\n  \"rows\": 9,\n  \"fields\": [\n    {\n      \"column\": \"obs_value\",\n      \"properties\": {\n        \"dtype\": \"number\",\n        \"std\": 15,\n        \"min\": 6,\n        \"max\": 58,\n        \"num_unique_values\": 9,\n        \"samples\": [\n          8,\n          16,\n          6\n        ],\n        \"semantic_type\": \"\",\n        \"description\": \"\"\n      }\n    }\n  ]\n}"
            }
          },
          "metadata": {},
          "execution_count": 33
        }
      ]
    },
    {
      "cell_type": "code",
      "source": [
        "for d in df['domain'].unique():\n",
        "    print(f\"\\nDomain: {d}\")\n",
        "    print(df[df['domain'] == d][['time_period','obs_value']].head())\n"
      ],
      "metadata": {
        "colab": {
          "base_uri": "https://localhost:8080/"
        },
        "id": "vBh3tW6lVzpa",
        "outputId": "8f5b31c9-0f06-4aef-d6f4-85b3464b8e3d"
      },
      "execution_count": 34,
      "outputs": [
        {
          "output_type": "stream",
          "name": "stdout",
          "text": [
            "\n",
            "Domain: HSL_9\n",
            "    time_period  obs_value\n",
            "0          2020   5.700707\n",
            "1          2019  28.232000\n",
            "39         2013  10.128776\n",
            "40         2012  10.184634\n",
            "41         2011   5.441636\n",
            "\n",
            "Domain: HSL_5\n",
            "   time_period  obs_value\n",
            "2         2017       82.5\n",
            "3         2016       82.4\n",
            "4         2015       82.4\n",
            "8         2011       81.9\n",
            "9         2010       81.7\n",
            "\n",
            "Domain: HSL_2\n",
            "    time_period  obs_value\n",
            "5          2011     14.140\n",
            "6          2010     13.990\n",
            "7          2024     10.170\n",
            "87         2011     75.798\n",
            "88         2010     75.444\n",
            "\n",
            "Domain: HSL_1\n",
            "    time_period  obs_value\n",
            "11         2012   317166.0\n",
            "12         2020   337095.0\n",
            "13         2018   336270.0\n",
            "14         2018    43982.0\n",
            "15         2017    43399.0\n",
            "\n",
            "Domain: HSL_11\n",
            "    time_period  obs_value\n",
            "58         2023  14.098944\n",
            "59         2022  14.098944\n",
            "60         2021  11.316500\n",
            "66         2013  10.516486\n",
            "68         2020  11.316500\n",
            "\n",
            "Domain: HSL_7\n",
            "    time_period  obs_value\n",
            "61         2014   6.041596\n",
            "62         2013   5.324185\n",
            "63         2012   5.324185\n",
            "64         2011   5.324185\n",
            "65         2010   4.926543\n",
            "\n",
            "Domain: HSL_8\n",
            "     time_period  obs_value\n",
            "86          2021  46.815718\n",
            "156         2016  91.010000\n",
            "157         2013  93.230000\n",
            "158         2010  93.220000\n",
            "159         2025  90.670000\n",
            "\n",
            "Domain: HSL_6\n",
            "     time_period   obs_value\n",
            "101         2022   12.082763\n",
            "162         2018  491.360025\n",
            "163         2015  493.896231\n",
            "164         2012  504.150766\n",
            "177         2018   11.215180\n",
            "\n",
            "Domain: HSL_3\n",
            "     time_period  obs_value\n",
            "143         2020  81.037482\n",
            "144         2019  80.657334\n",
            "145         2018  80.197539\n",
            "146         2017  79.979501\n",
            "147         2016  80.057727\n"
          ]
        }
      ]
    },
    {
      "cell_type": "code",
      "source": [
        "import pandas as pd\n",
        "\n",
        "# If you still have the df_pivot DataFrame from before, skip this\n",
        "# Otherwise load it from the saved file if available:\n",
        "# df_pivot = pd.read_csv(\"australia_life_satisfaction_employment.csv\")\n",
        "\n",
        "# For now, assume df_pivot is present in memory.\n"
      ],
      "metadata": {
        "id": "tRqb3-asmOBj"
      },
      "execution_count": 1,
      "outputs": []
    },
    {
      "cell_type": "code",
      "source": [
        "# Remove rows where either is missing, so only 2019 and 2020 remain\n",
        "df_valid = df_pivot.dropna(subset=['life_satisfaction', 'employment_rate'])\n",
        "\n",
        "print(\"Data available for analysis:\")\n",
        "print(df_valid)\n"
      ],
      "metadata": {
        "colab": {
          "base_uri": "https://localhost:8080/",
          "height": 228
        },
        "id": "4TbzI0R0mPKd",
        "outputId": "ae46e300-adb7-4c13-cfda-2b5b7294f429"
      },
      "execution_count": 1,
      "outputs": [
        {
          "output_type": "error",
          "ename": "NameError",
          "evalue": "name 'df_pivot' is not defined",
          "traceback": [
            "\u001b[0;31m---------------------------------------------------------------------------\u001b[0m",
            "\u001b[0;31mNameError\u001b[0m                                 Traceback (most recent call last)",
            "\u001b[0;32m/tmp/ipython-input-2734382484.py\u001b[0m in \u001b[0;36m<cell line: 0>\u001b[0;34m()\u001b[0m\n\u001b[1;32m      1\u001b[0m \u001b[0;31m# Remove rows where either is missing, so only 2019 and 2020 remain\u001b[0m\u001b[0;34m\u001b[0m\u001b[0;34m\u001b[0m\u001b[0m\n\u001b[0;32m----> 2\u001b[0;31m \u001b[0mdf_valid\u001b[0m \u001b[0;34m=\u001b[0m \u001b[0mdf_pivot\u001b[0m\u001b[0;34m.\u001b[0m\u001b[0mdropna\u001b[0m\u001b[0;34m(\u001b[0m\u001b[0msubset\u001b[0m\u001b[0;34m=\u001b[0m\u001b[0;34m[\u001b[0m\u001b[0;34m'life_satisfaction'\u001b[0m\u001b[0;34m,\u001b[0m \u001b[0;34m'employment_rate'\u001b[0m\u001b[0;34m]\u001b[0m\u001b[0;34m)\u001b[0m\u001b[0;34m\u001b[0m\u001b[0;34m\u001b[0m\u001b[0m\n\u001b[0m\u001b[1;32m      3\u001b[0m \u001b[0;34m\u001b[0m\u001b[0m\n\u001b[1;32m      4\u001b[0m \u001b[0mprint\u001b[0m\u001b[0;34m(\u001b[0m\u001b[0;34m\"Data available for analysis:\"\u001b[0m\u001b[0;34m)\u001b[0m\u001b[0;34m\u001b[0m\u001b[0;34m\u001b[0m\u001b[0m\n\u001b[1;32m      5\u001b[0m \u001b[0mprint\u001b[0m\u001b[0;34m(\u001b[0m\u001b[0mdf_valid\u001b[0m\u001b[0;34m)\u001b[0m\u001b[0;34m\u001b[0m\u001b[0;34m\u001b[0m\u001b[0m\n",
            "\u001b[0;31mNameError\u001b[0m: name 'df_pivot' is not defined"
          ]
        }
      ]
    },
    {
      "cell_type": "code",
      "source": [
        "import matplotlib.pyplot as plt\n",
        "\n",
        "years = [2019, 2020]\n",
        "\n",
        "# Data\n",
        "life_satisfaction = [7.5, 7.2]\n",
        "employment_rate = [77.6, 76.1]\n",
        "\n",
        "# Start figure\n",
        "plt.figure(figsize=(8, 5))\n",
        "\n",
        "# Plot both variables as points with connecting lines for emphasis\n",
        "plt.plot(years, life_satisfaction, 'o-', color='#1f77b4', label='Life Satisfaction (0-10)')\n",
        "plt.plot(years, employment_rate, 's-', color='#ff7f0e', label='Employment Rate (%)')\n",
        "\n",
        "# Highlight and annotate\n",
        "plt.scatter(years, life_satisfaction, color='#1f77b4')\n",
        "plt.scatter(years, employment_rate, color='#ff7f0e')\n",
        "plt.text(2019, 7.5 + 0.05, '2019', ha='center', color='#1f77b4', fontsize=10)\n",
        "plt.text(2020, 7.2 - 0.2, '2020', ha='center', color='#1f77b4', fontsize=10)\n",
        "plt.text(2019, 77.6 + 0.15, '2019', ha='center', color='#ff7f0e', fontsize=10)\n",
        "plt.text(2020, 76.1 - 0.3, '2020', ha='center', color='#ff7f0e', fontsize=10)\n",
        "\n",
        "# Axes labeling\n",
        "plt.xlabel('Year', fontsize=12)\n",
        "plt.ylabel('Value', fontsize=12)\n",
        "\n",
        "# Title\n",
        "plt.title('Life Satisfaction and Employment Rate in Australia (2019-2020)', fontsize=14, fontweight='bold')\n",
        "\n",
        "# Legend with clear description\n",
        "plt.legend(title='Indicator')\n",
        "\n",
        "# Style: Clean grid, consistent size, fonts\n",
        "plt.grid(axis='y', linestyle='--', alpha=0.8)\n",
        "\n",
        "# Note on data limitation\n",
        "plt.annotate('Data only available for 2019-2020', xy=(2019, 7.5), xytext=(2019, 8.2),\n",
        "             arrowprops=dict(arrowstyle=\"->\", lw=1.5, color='black'), fontsize=11, color='black')\n",
        "\n",
        "plt.tight_layout()\n",
        "plt.show()\n"
      ],
      "metadata": {
        "colab": {
          "base_uri": "https://localhost:8080/",
          "height": 527
        },
        "id": "h0d3xLQ0mPWy",
        "outputId": "bbe4ed65-9c13-4e18-d883-a870ca97f320"
      },
      "execution_count": 2,
      "outputs": [
        {
          "output_type": "display_data",
          "data": {
            "text/plain": [
              "<Figure size 800x500 with 1 Axes>"
            ],
            "image/png": "[encoded data removed]"
          },
          "metadata": {}
        }
      ]
    }
  ]
}